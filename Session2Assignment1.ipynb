{
 "cells": [
  {
   "cell_type": "code",
   "execution_count": 9,
   "metadata": {},
   "outputs": [
    {
     "name": "stdout",
     "output_type": "stream",
     "text": [
      "Input a list of numbers, each separated by a comma: 1,2,3,45,6,67,7,8,9,12,23\n",
      "\n",
      "Number list from a sequence of comma separated numbers: ['1', '2', '3', '45', '6', '67', '7', '8', '9', '12', '23']\n"
     ]
    }
   ],
   "source": [
    "# Write a program which accepts a sequence of comma-separated numbers from console and generate a list.\n",
    "\n",
    "numlist = [] # List to store the extracted numbers from the sequence\n",
    "numstring = input(\"Input a list of numbers, each separated by a comma: \") # Accept a sequence of comma-separated numbers from user\n",
    "numlist =numstring.split(\",\")  # Split the sequence by the comma and store the resultant list into numlist\n",
    "print()\n",
    "print(\"Number list from a sequence of comma separated numbers: {}\".format(numlist)) # Print the elements of the list\n",
    "        "
   ]
  },
  {
   "cell_type": "code",
   "execution_count": null,
   "metadata": {},
   "outputs": [],
   "source": []
  }
 ],
 "metadata": {
  "kernelspec": {
   "display_name": "Python 3",
   "language": "python",
   "name": "python3"
  },
  "language_info": {
   "codemirror_mode": {
    "name": "ipython",
    "version": 3
   },
   "file_extension": ".py",
   "mimetype": "text/x-python",
   "name": "python",
   "nbconvert_exporter": "python",
   "pygments_lexer": "ipython3",
   "version": "3.6.4"
  }
 },
 "nbformat": 4,
 "nbformat_minor": 2
}
